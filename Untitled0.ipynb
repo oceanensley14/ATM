{
  "nbformat": 4,
  "nbformat_minor": 0,
  "metadata": {
    "colab": {
      "provenance": [],
      "authorship_tag": "ABX9TyM//dGPMi7wKhDP6Bm8dcnW",
      "include_colab_link": true
    },
    "kernelspec": {
      "name": "python3",
      "display_name": "Python 3"
    },
    "language_info": {
      "name": "python"
    }
  },
  "cells": [
    {
      "cell_type": "markdown",
      "metadata": {
        "id": "view-in-github",
        "colab_type": "text"
      },
      "source": [
        "<a href=\"https://colab.research.google.com/github/oceanensley14/ATM/blob/main/Untitled0.ipynb\" target=\"_parent\"><img src=\"https://colab.research.google.com/assets/colab-badge.svg\" alt=\"Open In Colab\"/></a>"
      ]
    },
    {
      "cell_type": "code",
      "execution_count": null,
      "metadata": {
        "colab": {
          "base_uri": "https://localhost:8080/"
        },
        "id": "CCwPr8yHMxVJ",
        "outputId": "a0bfbcb7-5c47-4d27-b4a5-a117d02a7b8a"
      },
      "outputs": [
        {
          "output_type": "stream",
          "name": "stdout",
          "text": [
            "Welcome to JawBanks\n",
            "Please Enter Your 4 Digit Pin Number: 1234\n",
            "d: Deposit or w: Withdraw: d\n",
            "Enter The Amout You Would Like To Deposit: 5879\n",
            "5879 $ Has Been Deposited To Your Account\n",
            "Balance = $ 1005879\n",
            "Would You Like To Continue? Y/N: Y\n",
            "Thank You For Using JawBanks\n"
          ]
        }
      ],
      "source": [
        "\n",
        "print(\"Welcome to JawBanks\")\n",
        "Trials = 3\n",
        "UserPin = 1234\n",
        "Balance = 1000000\n",
        "\n",
        "while Trials != 0:\n",
        "  Pin = int(input(\"Please Enter Your 4 Digit Pin Number: \"))\n",
        "  if Pin != UserPin:\n",
        "    Trials -= 1\n",
        "    print(\"Wrong Pin Number, You Have\",Trials,\"Trials Left\")\n",
        "  else:\n",
        "    UserChoice = input(\"d: Deposit or w: Withdraw: \")\n",
        "    if UserChoice == 'd':\n",
        "      UserDeposit = input(\"Enter The Amout You Would Like To Deposit: \")\n",
        "      print(UserDeposit, \"$ Has Been Deposited To Your Account\")\n",
        "      Balance = int(Balance) + int(UserDeposit)\n",
        "      print(\"Balance = $\",Balance)\n",
        "    elif UserChoice =='w':\n",
        "      UserWithdraw = input(\"Enter The Amount You Would Like To Withdraw: \")\n",
        "      print(UserWithdraw, \"$ Has Been Withdrawn From Your Account\")\n",
        "      Balance = int(Balance) - int(UserWithdraw)\n",
        "      print(\"Balance = $\",Balance)\n",
        "  UserExit = input(\"Would You Like To Continue? Y/N: \")\n",
        "  if UserExit == 'N' or 'n':\n",
        "    print(\"Thank You For Using JawBanks\")\n",
        "    break\n",
        "  else:\n",
        "    continue"
      ]
    }
  ]
}